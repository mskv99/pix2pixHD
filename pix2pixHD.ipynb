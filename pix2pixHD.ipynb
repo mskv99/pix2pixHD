{
 "cells": [
  {
   "cell_type": "markdown",
   "metadata": {
    "id": "Kzht0o2xJUjq"
   },
   "source": [
    "Клонируем репозитрий pix2pixHD:"
   ]
  },
  {
   "cell_type": "code",
   "execution_count": 1,
   "metadata": {
    "colab": {
     "base_uri": "https://localhost:8080/"
    },
    "id": "OHjoX9ItH263",
    "outputId": "edab4646-8680-4d06-9cd8-1d620a11c6b7"
   },
   "outputs": [
    {
     "name": "stdout",
     "output_type": "stream",
     "text": [
      "Cloning into 'pix2pixHD'...\n",
      "remote: Enumerating objects: 340, done.\u001b[K\n",
      "remote: Total 340 (delta 0), reused 0 (delta 0), pack-reused 340 (from 1)\u001b[K\n",
      "Receiving objects: 100% (340/340), 55.68 MiB | 14.69 MiB/s, done.\n",
      "Resolving deltas: 100% (156/156), done.\n"
     ]
    }
   ],
   "source": [
    "!git clone https://github.com/NVIDIA/pix2pixHD"
   ]
  },
  {
   "cell_type": "code",
   "execution_count": 2,
   "metadata": {
    "colab": {
     "base_uri": "https://localhost:8080/"
    },
    "id": "He2wlSTv-itR",
    "outputId": "fad220c8-2a79-4ad6-fe3a-c097f9c8ca1c"
   },
   "outputs": [
    {
     "name": "stdout",
     "output_type": "stream",
     "text": [
      "Collecting dominate\n",
      "  Downloading dominate-2.9.1-py2.py3-none-any.whl.metadata (13 kB)\n",
      "Downloading dominate-2.9.1-py2.py3-none-any.whl (29 kB)\n",
      "Installing collected packages: dominate\n",
      "Successfully installed dominate-2.9.1\n"
     ]
    }
   ],
   "source": [
    "!pip install dominate"
   ]
  },
  {
   "cell_type": "code",
   "execution_count": null,
   "metadata": {
    "id": "3ThO_sbOZCCh"
   },
   "outputs": [],
   "source": [
    "!unzip /content/drive/MyDrive/datasets/gds_dataset_new.zip"
   ]
  },
  {
   "cell_type": "code",
   "execution_count": 5,
   "metadata": {
    "id": "GD9XjL0TITmW"
   },
   "outputs": [],
   "source": [
    "!rm -r /content/__MACOSX"
   ]
  },
  {
   "cell_type": "code",
   "execution_count": 4,
   "metadata": {
    "colab": {
     "base_uri": "https://localhost:8080/"
    },
    "id": "XPlqYUQcAO4s",
    "outputId": "4168c2fa-4ca6-4ab2-8ef5-19bb1f30e69b"
   },
   "outputs": [
    {
     "name": "stdout",
     "output_type": "stream",
     "text": [
      "/content/pix2pixHD\n"
     ]
    }
   ],
   "source": [
    "%cd pix2pixHD"
   ]
  },
  {
   "cell_type": "code",
   "execution_count": 6,
   "metadata": {
    "id": "VPUjrpQq4rYr"
   },
   "outputs": [],
   "source": [
    "!mkdir datasets/gds_dataset_new/"
   ]
  },
  {
   "cell_type": "code",
   "execution_count": 11,
   "metadata": {
    "id": "5pngHqcH43Js"
   },
   "outputs": [],
   "source": [
    "%mv /content/gds_dataset_new/origin/train_origin datasets/gds_dataset_new/train_A"
   ]
  },
  {
   "cell_type": "code",
   "execution_count": 12,
   "metadata": {
    "id": "ae9se5rQ5H_o"
   },
   "outputs": [],
   "source": [
    "%mv /content/gds_dataset_new/correction/train_correction datasets/gds_dataset_new/train_B"
   ]
  },
  {
   "cell_type": "code",
   "execution_count": null,
   "metadata": {
    "colab": {
     "base_uri": "https://localhost:8080/"
    },
    "id": "VpiIHYY693xn",
    "outputId": "3c6d808c-f2b8-464c-f7e5-cf3fbb37b0b6"
   },
   "outputs": [
    {
     "name": "stdout",
     "output_type": "stream",
     "text": [
      "/content/pix2pixHD\n"
     ]
    }
   ],
   "source": [
    "!pwd"
   ]
  },
  {
   "cell_type": "code",
   "execution_count": null,
   "metadata": {
    "colab": {
     "base_uri": "https://localhost:8080/"
    },
    "id": "PIvsPk7pA3tC",
    "outputId": "9b654204-73e0-45d6-9947-55bf9299a5cb"
   },
   "outputs": [],
   "source": [
    "!python train.py --label_nc 0 --name exp_1  --no_instance --dataroot /content/pix2pixHD/datasets/gds_dataset_new \\\n",
    " --save_epoch_freq 1 --no_flip \\\n",
    " --niter 25 --niter_decay 25 \\\n",
    " --verbose --serial_batches"
   ]
  },
  {
   "cell_type": "markdown",
   "metadata": {
    "id": "TjC2WwsKJKyJ"
   },
   "source": [
    "После обучения сделать архив из папки `checkpoints`:"
   ]
  },
  {
   "cell_type": "code",
   "execution_count": null,
   "metadata": {
    "id": "HWEizrqoPKDa"
   },
   "outputs": [],
   "source": [
    "!zip -r /content/drive/MyDrive/models/pix2pix_1.zip /content/pix2pixHD/checkpoints"
   ]
  },
  {
   "cell_type": "code",
   "execution_count": 14,
   "metadata": {
    "id": "gJloB-0uJgqs"
   },
   "outputs": [],
   "source": [
    "!pip freeze > requirements.txt"
   ]
  },
  {
   "cell_type": "markdown",
   "metadata": {
    "id": "_ldkPIlCTb1j"
   },
   "source": [
    "## Предсказываем изображения из тестовой выборки"
   ]
  },
  {
   "cell_type": "code",
   "execution_count": null,
   "metadata": {
    "colab": {
     "base_uri": "https://localhost:8080/"
    },
    "id": "Vz2Lw3TvU1AH",
    "outputId": "a2ff2f20-8303-4aa6-82c8-5b41019aa0e9"
   },
   "outputs": [
    {
     "name": "stdout",
     "output_type": "stream",
     "text": [
      "Archive:  /content/checkpoints.zip\n",
      "  End-of-central-directory signature not found.  Either this file is not\n",
      "  a zipfile, or it constitutes one disk of a multi-part archive.  In the\n",
      "  latter case the central directory and zipfile comment will be found on\n",
      "  the last disk(s) of this archive.\n",
      "unzip:  cannot find zipfile directory in one of /content/checkpoints.zip or\n",
      "        /content/checkpoints.zip.zip, and cannot find /content/checkpoints.zip.ZIP, period.\n"
     ]
    }
   ],
   "source": [
    "!unzip /content/checkpoints.zip"
   ]
  },
  {
   "cell_type": "code",
   "execution_count": null,
   "metadata": {
    "colab": {
     "base_uri": "https://localhost:8080/"
    },
    "id": "CeIr-n-egypq",
    "outputId": "961bbacc-f071-4d70-e3e8-c343232b43ce"
   },
   "outputs": [],
   "source": [
    "import os\n",
    "\n",
    "os.listdir('/content/pix2pixHD/datasets/gds_dataset/origin')[:15]"
   ]
  },
  {
   "cell_type": "code",
   "execution_count": null,
   "metadata": {
    "colab": {
     "base_uri": "https://localhost:8080/"
    },
    "id": "iv0BRapHh2TJ",
    "outputId": "7e9f6679-d4e5-473b-d100-50412a365ee6"
   },
   "outputs": [],
   "source": [
    "import re\n",
    "\n",
    "print(sorted(os.listdir('/content/pix2pixHD/datasets/gds_dataset/origin'), key=lambda s: int(re.search(r'\\d+', s).group())))"
   ]
  },
  {
   "cell_type": "code",
   "execution_count": null,
   "metadata": {
    "id": "EZtPNfJOo9RK"
   },
   "outputs": [],
   "source": [
    "!rm -r /content/pix2pixHD/datasets/gds_dataset/test_A"
   ]
  },
  {
   "cell_type": "code",
   "execution_count": null,
   "metadata": {
    "id": "y5E12Z9tiFF6"
   },
   "outputs": [],
   "source": [
    "import shutil\n",
    "\n",
    "if not os.path.exists('/content/pix2pixHD/datasets/gds_dataset/test_A'):\n",
    "  os.mkdir('/content/pix2pixHD/datasets/gds_dataset/test_A')\n",
    "\n",
    "sorted_images = sorted(os.listdir('/content/pix2pixHD/datasets/gds_dataset/origin'), key=lambda s: int(re.search(r'\\d+', s).group()))\n",
    "\n",
    "single_batch = sorted_images[:500]\n",
    "\n",
    "for i in single_batch:\n",
    "  copy_path = os.path.join('/content/pix2pixHD/datasets/gds_dataset/origin/', i)\n",
    "  shutil.copy(copy_path, '/content/pix2pixHD/datasets/gds_dataset/test_A')\n",
    "\n"
   ]
  },
  {
   "cell_type": "code",
   "execution_count": null,
   "metadata": {
    "id": "k5C-p5All0Fm"
   },
   "outputs": [],
   "source": [
    "!unzip /content/drive/MyDrive/models/checkpoints.zip"
   ]
  },
  {
   "cell_type": "code",
   "execution_count": null,
   "metadata": {
    "id": "GhgeMmOMpss8"
   },
   "outputs": [],
   "source": [
    "!rm -r /content/pix2pixHD/results"
   ]
  },
  {
   "cell_type": "code",
   "execution_count": null,
   "metadata": {
    "id": "ghGaqqOTLXXY"
   },
   "outputs": [],
   "source": [
    "import time\n",
    "\n",
    "\n",
    "start_time = time.time()\n",
    "\n",
    "!python test.py --label_nc 0 --no_instance --name exp_1 --dataroot /content/pix2pixHD/datasets/gds_dataset/ --how_many 500 --no_flip --checkpoints_dir checkpoints\n",
    "\n",
    "end_time = time.time()\n",
    "\n",
    "print(f'Model generated 500 images within {round(end_time - start_time)}')\n",
    "print(f'Average time per image {round(end_time - start_time)/500}')\n",
    "\n"
   ]
  },
  {
   "cell_type": "code",
   "execution_count": null,
   "metadata": {
    "id": "mbTSSc8lm2C3"
   },
   "outputs": [],
   "source": [
    "!zip -r /content/test_result.zip /content/pix2pixHD/results/exp_1/test_latest"
   ]
  },
  {
   "cell_type": "code",
   "execution_count": null,
   "metadata": {
    "colab": {
     "base_uri": "https://localhost:8080/",
     "height": 206
    },
    "id": "K0BqcsBDoEXS",
    "outputId": "ce57d6e1-6134-4dc5-999c-1075438c6afd"
   },
   "outputs": [
    {
     "data": {
      "application/vnd.google.colaboratory.intrinsic+json": {
       "summary": "{\n  \"name\": \"metrics\",\n  \"rows\": 21,\n  \"fields\": [\n    {\n      \"column\": \"XOR_frac\",\n      \"properties\": {\n        \"dtype\": \"number\",\n        \"std\": 0.010234201017898875,\n        \"min\": 0.04512566783156859,\n        \"max\": 0.0832270679248491,\n        \"num_unique_values\": 21,\n        \"samples\": [\n          0.06254488400412153,\n          0.07780759732195114,\n          0.06286023571244229\n        ],\n        \"semantic_type\": \"\",\n        \"description\": \"\"\n      }\n    },\n    {\n      \"column\": \"PVBand_GAN\",\n      \"properties\": {\n        \"dtype\": \"number\",\n        \"std\": 0.004156569782112581,\n        \"min\": 0.005196,\n        \"max\": 0.0183255,\n        \"num_unique_values\": 21,\n        \"samples\": [\n          0.013369,\n          0.0073625,\n          0.0149385\n        ],\n        \"semantic_type\": \"\",\n        \"description\": \"\"\n      }\n    },\n    {\n      \"column\": \"PVBand_Calibre\",\n      \"properties\": {\n        \"dtype\": \"number\",\n        \"std\": 0.0041623589514212,\n        \"min\": 0.005498,\n        \"max\": 0.0186335,\n        \"num_unique_values\": 21,\n        \"samples\": [\n          0.0129545,\n          0.007761,\n          0.0153665\n        ],\n        \"semantic_type\": \"\",\n        \"description\": \"\"\n      }\n    },\n    {\n      \"column\": \"PVBand_GAN/Calibre\",\n      \"properties\": {\n        \"dtype\": \"number\",\n        \"std\": 0.028462535963760922,\n        \"min\": 0.9450709348854128,\n        \"max\": 1.04431247144815,\n        \"num_unique_values\": 21,\n        \"samples\": [\n          1.0319966034968544,\n          0.9486535240304085,\n          0.9721472033319234\n        ],\n        \"semantic_type\": \"\",\n        \"description\": \"\"\n      }\n    }\n  ]\n}",
       "type": "dataframe",
       "variable_name": "metrics"
      },
      "text/html": [
       "\n",
       "  <div id=\"df-c3703a52-378e-4971-95c1-b8151e096f2f\" class=\"colab-df-container\">\n",
       "    <div>\n",
       "<style scoped>\n",
       "    .dataframe tbody tr th:only-of-type {\n",
       "        vertical-align: middle;\n",
       "    }\n",
       "\n",
       "    .dataframe tbody tr th {\n",
       "        vertical-align: top;\n",
       "    }\n",
       "\n",
       "    .dataframe thead th {\n",
       "        text-align: right;\n",
       "    }\n",
       "</style>\n",
       "<table border=\"1\" class=\"dataframe\">\n",
       "  <thead>\n",
       "    <tr style=\"text-align: right;\">\n",
       "      <th></th>\n",
       "      <th>XOR_frac</th>\n",
       "      <th>PVBand_GAN</th>\n",
       "      <th>PVBand_Calibre</th>\n",
       "      <th>PVBand_GAN/Calibre</th>\n",
       "    </tr>\n",
       "  </thead>\n",
       "  <tbody>\n",
       "    <tr>\n",
       "      <th>0</th>\n",
       "      <td>0.062545</td>\n",
       "      <td>0.013369</td>\n",
       "      <td>0.012955</td>\n",
       "      <td>1.031997</td>\n",
       "    </tr>\n",
       "    <tr>\n",
       "      <th>1</th>\n",
       "      <td>0.067008</td>\n",
       "      <td>0.007900</td>\n",
       "      <td>0.008129</td>\n",
       "      <td>0.971768</td>\n",
       "    </tr>\n",
       "    <tr>\n",
       "      <th>2</th>\n",
       "      <td>0.067685</td>\n",
       "      <td>0.014054</td>\n",
       "      <td>0.014425</td>\n",
       "      <td>0.974281</td>\n",
       "    </tr>\n",
       "    <tr>\n",
       "      <th>3</th>\n",
       "      <td>0.064272</td>\n",
       "      <td>0.014836</td>\n",
       "      <td>0.014774</td>\n",
       "      <td>1.004231</td>\n",
       "    </tr>\n",
       "    <tr>\n",
       "      <th>4</th>\n",
       "      <td>0.076447</td>\n",
       "      <td>0.016924</td>\n",
       "      <td>0.017012</td>\n",
       "      <td>0.994827</td>\n",
       "    </tr>\n",
       "  </tbody>\n",
       "</table>\n",
       "</div>\n",
       "    <div class=\"colab-df-buttons\">\n",
       "\n",
       "  <div class=\"colab-df-container\">\n",
       "    <button class=\"colab-df-convert\" onclick=\"convertToInteractive('df-c3703a52-378e-4971-95c1-b8151e096f2f')\"\n",
       "            title=\"Convert this dataframe to an interactive table.\"\n",
       "            style=\"display:none;\">\n",
       "\n",
       "  <svg xmlns=\"http://www.w3.org/2000/svg\" height=\"24px\" viewBox=\"0 -960 960 960\">\n",
       "    <path d=\"M120-120v-720h720v720H120Zm60-500h600v-160H180v160Zm220 220h160v-160H400v160Zm0 220h160v-160H400v160ZM180-400h160v-160H180v160Zm440 0h160v-160H620v160ZM180-180h160v-160H180v160Zm440 0h160v-160H620v160Z\"/>\n",
       "  </svg>\n",
       "    </button>\n",
       "\n",
       "  <style>\n",
       "    .colab-df-container {\n",
       "      display:flex;\n",
       "      gap: 12px;\n",
       "    }\n",
       "\n",
       "    .colab-df-convert {\n",
       "      background-color: #E8F0FE;\n",
       "      border: none;\n",
       "      border-radius: 50%;\n",
       "      cursor: pointer;\n",
       "      display: none;\n",
       "      fill: #1967D2;\n",
       "      height: 32px;\n",
       "      padding: 0 0 0 0;\n",
       "      width: 32px;\n",
       "    }\n",
       "\n",
       "    .colab-df-convert:hover {\n",
       "      background-color: #E2EBFA;\n",
       "      box-shadow: 0px 1px 2px rgba(60, 64, 67, 0.3), 0px 1px 3px 1px rgba(60, 64, 67, 0.15);\n",
       "      fill: #174EA6;\n",
       "    }\n",
       "\n",
       "    .colab-df-buttons div {\n",
       "      margin-bottom: 4px;\n",
       "    }\n",
       "\n",
       "    [theme=dark] .colab-df-convert {\n",
       "      background-color: #3B4455;\n",
       "      fill: #D2E3FC;\n",
       "    }\n",
       "\n",
       "    [theme=dark] .colab-df-convert:hover {\n",
       "      background-color: #434B5C;\n",
       "      box-shadow: 0px 1px 3px 1px rgba(0, 0, 0, 0.15);\n",
       "      filter: drop-shadow(0px 1px 2px rgba(0, 0, 0, 0.3));\n",
       "      fill: #FFFFFF;\n",
       "    }\n",
       "  </style>\n",
       "\n",
       "    <script>\n",
       "      const buttonEl =\n",
       "        document.querySelector('#df-c3703a52-378e-4971-95c1-b8151e096f2f button.colab-df-convert');\n",
       "      buttonEl.style.display =\n",
       "        google.colab.kernel.accessAllowed ? 'block' : 'none';\n",
       "\n",
       "      async function convertToInteractive(key) {\n",
       "        const element = document.querySelector('#df-c3703a52-378e-4971-95c1-b8151e096f2f');\n",
       "        const dataTable =\n",
       "          await google.colab.kernel.invokeFunction('convertToInteractive',\n",
       "                                                    [key], {});\n",
       "        if (!dataTable) return;\n",
       "\n",
       "        const docLinkHtml = 'Like what you see? Visit the ' +\n",
       "          '<a target=\"_blank\" href=https://colab.research.google.com/notebooks/data_table.ipynb>data table notebook</a>'\n",
       "          + ' to learn more about interactive tables.';\n",
       "        element.innerHTML = '';\n",
       "        dataTable['output_type'] = 'display_data';\n",
       "        await google.colab.output.renderOutput(dataTable, element);\n",
       "        const docLink = document.createElement('div');\n",
       "        docLink.innerHTML = docLinkHtml;\n",
       "        element.appendChild(docLink);\n",
       "      }\n",
       "    </script>\n",
       "  </div>\n",
       "\n",
       "\n",
       "<div id=\"df-321ea5eb-e570-47a0-b9c5-c3577ab1a38d\">\n",
       "  <button class=\"colab-df-quickchart\" onclick=\"quickchart('df-321ea5eb-e570-47a0-b9c5-c3577ab1a38d')\"\n",
       "            title=\"Suggest charts\"\n",
       "            style=\"display:none;\">\n",
       "\n",
       "<svg xmlns=\"http://www.w3.org/2000/svg\" height=\"24px\"viewBox=\"0 0 24 24\"\n",
       "     width=\"24px\">\n",
       "    <g>\n",
       "        <path d=\"M19 3H5c-1.1 0-2 .9-2 2v14c0 1.1.9 2 2 2h14c1.1 0 2-.9 2-2V5c0-1.1-.9-2-2-2zM9 17H7v-7h2v7zm4 0h-2V7h2v10zm4 0h-2v-4h2v4z\"/>\n",
       "    </g>\n",
       "</svg>\n",
       "  </button>\n",
       "\n",
       "<style>\n",
       "  .colab-df-quickchart {\n",
       "      --bg-color: #E8F0FE;\n",
       "      --fill-color: #1967D2;\n",
       "      --hover-bg-color: #E2EBFA;\n",
       "      --hover-fill-color: #174EA6;\n",
       "      --disabled-fill-color: #AAA;\n",
       "      --disabled-bg-color: #DDD;\n",
       "  }\n",
       "\n",
       "  [theme=dark] .colab-df-quickchart {\n",
       "      --bg-color: #3B4455;\n",
       "      --fill-color: #D2E3FC;\n",
       "      --hover-bg-color: #434B5C;\n",
       "      --hover-fill-color: #FFFFFF;\n",
       "      --disabled-bg-color: #3B4455;\n",
       "      --disabled-fill-color: #666;\n",
       "  }\n",
       "\n",
       "  .colab-df-quickchart {\n",
       "    background-color: var(--bg-color);\n",
       "    border: none;\n",
       "    border-radius: 50%;\n",
       "    cursor: pointer;\n",
       "    display: none;\n",
       "    fill: var(--fill-color);\n",
       "    height: 32px;\n",
       "    padding: 0;\n",
       "    width: 32px;\n",
       "  }\n",
       "\n",
       "  .colab-df-quickchart:hover {\n",
       "    background-color: var(--hover-bg-color);\n",
       "    box-shadow: 0 1px 2px rgba(60, 64, 67, 0.3), 0 1px 3px 1px rgba(60, 64, 67, 0.15);\n",
       "    fill: var(--button-hover-fill-color);\n",
       "  }\n",
       "\n",
       "  .colab-df-quickchart-complete:disabled,\n",
       "  .colab-df-quickchart-complete:disabled:hover {\n",
       "    background-color: var(--disabled-bg-color);\n",
       "    fill: var(--disabled-fill-color);\n",
       "    box-shadow: none;\n",
       "  }\n",
       "\n",
       "  .colab-df-spinner {\n",
       "    border: 2px solid var(--fill-color);\n",
       "    border-color: transparent;\n",
       "    border-bottom-color: var(--fill-color);\n",
       "    animation:\n",
       "      spin 1s steps(1) infinite;\n",
       "  }\n",
       "\n",
       "  @keyframes spin {\n",
       "    0% {\n",
       "      border-color: transparent;\n",
       "      border-bottom-color: var(--fill-color);\n",
       "      border-left-color: var(--fill-color);\n",
       "    }\n",
       "    20% {\n",
       "      border-color: transparent;\n",
       "      border-left-color: var(--fill-color);\n",
       "      border-top-color: var(--fill-color);\n",
       "    }\n",
       "    30% {\n",
       "      border-color: transparent;\n",
       "      border-left-color: var(--fill-color);\n",
       "      border-top-color: var(--fill-color);\n",
       "      border-right-color: var(--fill-color);\n",
       "    }\n",
       "    40% {\n",
       "      border-color: transparent;\n",
       "      border-right-color: var(--fill-color);\n",
       "      border-top-color: var(--fill-color);\n",
       "    }\n",
       "    60% {\n",
       "      border-color: transparent;\n",
       "      border-right-color: var(--fill-color);\n",
       "    }\n",
       "    80% {\n",
       "      border-color: transparent;\n",
       "      border-right-color: var(--fill-color);\n",
       "      border-bottom-color: var(--fill-color);\n",
       "    }\n",
       "    90% {\n",
       "      border-color: transparent;\n",
       "      border-bottom-color: var(--fill-color);\n",
       "    }\n",
       "  }\n",
       "</style>\n",
       "\n",
       "  <script>\n",
       "    async function quickchart(key) {\n",
       "      const quickchartButtonEl =\n",
       "        document.querySelector('#' + key + ' button');\n",
       "      quickchartButtonEl.disabled = true;  // To prevent multiple clicks.\n",
       "      quickchartButtonEl.classList.add('colab-df-spinner');\n",
       "      try {\n",
       "        const charts = await google.colab.kernel.invokeFunction(\n",
       "            'suggestCharts', [key], {});\n",
       "      } catch (error) {\n",
       "        console.error('Error during call to suggestCharts:', error);\n",
       "      }\n",
       "      quickchartButtonEl.classList.remove('colab-df-spinner');\n",
       "      quickchartButtonEl.classList.add('colab-df-quickchart-complete');\n",
       "    }\n",
       "    (() => {\n",
       "      let quickchartButtonEl =\n",
       "        document.querySelector('#df-321ea5eb-e570-47a0-b9c5-c3577ab1a38d button');\n",
       "      quickchartButtonEl.style.display =\n",
       "        google.colab.kernel.accessAllowed ? 'block' : 'none';\n",
       "    })();\n",
       "  </script>\n",
       "</div>\n",
       "    </div>\n",
       "  </div>\n"
      ],
      "text/plain": [
       "   XOR_frac  PVBand_GAN  PVBand_Calibre  PVBand_GAN/Calibre\n",
       "0  0.062545    0.013369        0.012955            1.031997\n",
       "1  0.067008    0.007900        0.008129            0.971768\n",
       "2  0.067685    0.014054        0.014425            0.974281\n",
       "3  0.064272    0.014836        0.014774            1.004231\n",
       "4  0.076447    0.016924        0.017012            0.994827"
      ]
     },
     "execution_count": 7,
     "metadata": {},
     "output_type": "execute_result"
    }
   ],
   "source": [
    "# XOR 115\n",
    "# PVBand_GAN\n",
    "# PVBand_Calibre\n",
    "# PVBand_GAN/Calibre\n",
    "# EPE_Calibre\n",
    "# EPE_GAN\n",
    "import pandas as pd\n",
    "test_statistics = [\n",
    "    {'XOR_frac': 0.0080125/0.128108,'PVBand_GAN' : 0.013369, 'PVBand_Calibre' :0.0129545,'PVBand_GAN/Calibre' : 0.013369/0.0129545,'EPE_Calibre' : 1 , 'EPE_GAN' : 2 },\n",
    "    {'XOR_frac': 0.0055295/0.08252,'PVBand_GAN' : 0.0078995 , 'PVBand_Calibre' : 0.008129,'PVBand_GAN/Calibre' : 0.0078995/0.008129, 'EPE_Calibre' : 1 , 'EPE_GAN' : 2 },\n",
    "    {'XOR_frac': 0.0080885/0.1195025, 'PVBand_GAN' : 0.014054 , 'PVBand_Calibre' : 0.014425 ,'PVBand_GAN/Calibre' : 0.014054/0.014425, 'EPE_Calibre' : 1 , 'EPE_GAN' : 2 },\n",
    "    {'XOR_frac': 0.008295/0.129061, 'PVBand_GAN' : 0.014836, 'PVBand_Calibre' : 0.0147735, 'PVBand_GAN/Calibre' : 0.014836/0.0147735, 'EPE_Calibre' : 1 , 'EPE_GAN' : 2 },\n",
    "    {'XOR_frac': 0.01083/0.1416665, 'PVBand_GAN' : 0.016924 , 'PVBand_Calibre' : 0.017012, 'PVBand_GAN/Calibre' : 0.016924/0.017012, 'EPE_Calibre' : 1 , 'EPE_GAN' : 2 },\n",
    "    {'XOR_frac': 0.00364/0.0744175, 'PVBand_GAN' : 0.007411, 'PVBand_Calibre' : 0.007345, 'PVBand_GAN/Calibre' : 0.007411/0.007345, 'EPE_Calibre' : 1 , 'EPE_GAN' : 2 },\n",
    "    {'XOR_frac': 0.003028/0.0671015, 'PVBand_GAN' : 0.006858, 'PVBand_Calibre' : 0.006567, 'PVBand_GAN/Calibre' : 0.006858/0.006567, 'EPE_Calibre' : 1 , 'EPE_GAN' : 2 },\n",
    "    {'XOR_frac': 0.010886/0.166897, 'PVBand_GAN' : 0.0183255, 'PVBand_Calibre' : 0.0186335, 'PVBand_GAN/Calibre' : 0.0183255/0.0186335,'EPE_Calibre' : 1 , 'EPE_GAN' : 2 },\n",
    "    {'XOR_frac': 0.0083525/0.152055, 'PVBand_GAN' : 0.014679, 'PVBand_Calibre' : 0.014598 , 'PVBand_GAN/Calibre' : 0.014679/0.014598,'EPE_Calibre' : 1 , 'EPE_GAN' : 2 },\n",
    "    {'XOR_frac': 0.0096765/0.143602, 'PVBand_GAN' : 0.016243, 'PVBand_Calibre' : 0.0162835, 'PVBand_GAN/Calibre' : 0.016243/0.0162835, 'EPE_Calibre' : 1 , 'EPE_GAN' : 2 },\n",
    "    {'XOR_frac': 0.0063925/0.09193 , 'PVBand_GAN' : 0.0120025 , 'PVBand_Calibre' : 0.011498, 'PVBand_GAN/Calibre' : 0.0120025/0.011498, 'EPE_Calibre' : 1 , 'EPE_GAN' : 2 },\n",
    "    {'XOR_frac': 0.00385/0.0740545, 'PVBand_GAN' : 0.006855, 'PVBand_Calibre' :  0.0069325, 'PVBand_GAN/Calibre' : 0.006855/0.0069325, 'EPE_Calibre' : 1 , 'EPE_GAN' : 2 },\n",
    "    {'XOR_frac': 0.010965/0.161708, 'PVBand_GAN' : 0.015916, 'PVBand_Calibre' : 0.015983, 'PVBand_GAN/Calibre' : 0.015916/0.015983 , 'EPE_Calibre' : 1 , 'EPE_GAN' : 2 },\n",
    "    {'XOR_frac': 0.004076/0.065748, 'PVBand_GAN' : 0.00715, 'PVBand_Calibre' : 0.0069335, 'PVBand_GAN/Calibre' : 0.00715/0.0069335, 'EPE_Calibre' : 1 , 'EPE_GAN' : 2 },\n",
    "    {'XOR_frac': 0.005903/0.11679 , 'PVBand_GAN' : 0.013456, 'PVBand_Calibre' : 0.013625, 'PVBand_GAN/Calibre' : 0.013456/0.013625, 'EPE_Calibre' : 1 , 'EPE_GAN' : 2 },\n",
    "    {'XOR_frac':  0.0087685/0.139492, 'PVBand_GAN' : 0.0149385, 'PVBand_Calibre' : 0.0153665, 'PVBand_GAN/Calibre' : 0.0149385/0.0153665, 'EPE_Calibre' : 1 , 'EPE_GAN' : 2 },\n",
    "    {'XOR_frac': 0.0034265/0.0411705, 'PVBand_GAN' : 0.005196 , 'PVBand_Calibre' : 0.005498, 'PVBand_GAN/Calibre' : 0.005196/ 0.005498, 'EPE_Calibre' : 1 , 'EPE_GAN' : 2 },\n",
    "    {'XOR_frac': 0.0054505/0.070051, 'PVBand_GAN' : 0.0073625, 'PVBand_Calibre' : 0.007761, 'PVBand_GAN/Calibre' : 0.0073625/0.007761, 'EPE_Calibre' : 1 , 'EPE_GAN' : 2 },\n",
    "    {'XOR_frac': 0.0102155/0.1263145 , 'PVBand_GAN' : 0.015283, 'PVBand_Calibre' : 0.0153195, 'PVBand_GAN/Calibre' : 0.015283/0.0153195 , 'EPE_Calibre' : 1 , 'EPE_GAN' : 2 },\n",
    "    {'XOR_frac': 0.0100455/0.145295, 'PVBand_GAN' : 0.015727, 'PVBand_Calibre' : 0.015525, 'PVBand_GAN/Calibre' : 0.015727/0.015525, 'EPE_Calibre' : 1 , 'EPE_GAN' : 2 },\n",
    "    {'XOR_frac': 0.0058895/0.091891, 'PVBand_GAN' : 0.0089665, 'PVBand_Calibre' : 0.0093905, 'PVBand_GAN/Calibre' : 0.0089665/0.0093905 , 'EPE_Calibre' : 1 , 'EPE_GAN' : 2 }\n",
    "]\n",
    "\n",
    "metrics = pd.DataFrame(test_statistics)\n",
    "metrics.drop(columns=['EPE_Calibre', 'EPE_GAN'], inplace=True)\n",
    "metrics.head(5)"
   ]
  },
  {
   "cell_type": "code",
   "execution_count": null,
   "metadata": {
    "colab": {
     "base_uri": "https://localhost:8080/",
     "height": 300
    },
    "id": "qIWF9I-vF3jm",
    "outputId": "44a4b17b-251c-4245-bcad-039d4d999654"
   },
   "outputs": [
    {
     "data": {
      "application/vnd.google.colaboratory.intrinsic+json": {
       "summary": "{\n  \"name\": \"metrics\",\n  \"rows\": 8,\n  \"fields\": [\n    {\n      \"column\": \"XOR_frac\",\n      \"properties\": {\n        \"dtype\": \"number\",\n        \"std\": 7.404466330546743,\n        \"min\": 0.010234201017898875,\n        \"max\": 21.0,\n        \"num_unique_values\": 8,\n        \"samples\": [\n          0.064733642698933,\n          0.06522585786443136,\n          21.0\n        ],\n        \"semantic_type\": \"\",\n        \"description\": \"\"\n      }\n    },\n    {\n      \"column\": \"PVBand_GAN\",\n      \"properties\": {\n        \"dtype\": \"number\",\n        \"std\": 7.420789473844766,\n        \"min\": 0.004156569782112581,\n        \"max\": 21.0,\n        \"num_unique_values\": 8,\n        \"samples\": [\n          0.012069142857142858,\n          0.013456,\n          21.0\n        ],\n        \"semantic_type\": \"\",\n        \"description\": \"\"\n      }\n    },\n    {\n      \"column\": \"PVBand_Calibre\",\n      \"properties\": {\n        \"dtype\": \"number\",\n        \"std\": 7.420725297392803,\n        \"min\": 0.0041623589514212,\n        \"max\": 21.0,\n        \"num_unique_values\": 8,\n        \"samples\": [\n          0.01212159523809524,\n          0.013625,\n          21.0\n        ],\n        \"semantic_type\": \"\",\n        \"description\": \"\"\n      }\n    },\n    {\n      \"column\": \"PVBand_GAN/Calibre\",\n      \"properties\": {\n        \"dtype\": \"number\",\n        \"std\": 7.130045905661356,\n        \"min\": 0.028462535963760922,\n        \"max\": 21.0,\n        \"num_unique_values\": 8,\n        \"samples\": [\n          0.9950290029333622,\n          0.9958080460489269,\n          21.0\n        ],\n        \"semantic_type\": \"\",\n        \"description\": \"\"\n      }\n    }\n  ]\n}",
       "type": "dataframe"
      },
      "text/html": [
       "\n",
       "  <div id=\"df-0dd6ad34-4247-43ea-a14e-5950d89edb8e\" class=\"colab-df-container\">\n",
       "    <div>\n",
       "<style scoped>\n",
       "    .dataframe tbody tr th:only-of-type {\n",
       "        vertical-align: middle;\n",
       "    }\n",
       "\n",
       "    .dataframe tbody tr th {\n",
       "        vertical-align: top;\n",
       "    }\n",
       "\n",
       "    .dataframe thead th {\n",
       "        text-align: right;\n",
       "    }\n",
       "</style>\n",
       "<table border=\"1\" class=\"dataframe\">\n",
       "  <thead>\n",
       "    <tr style=\"text-align: right;\">\n",
       "      <th></th>\n",
       "      <th>XOR_frac</th>\n",
       "      <th>PVBand_GAN</th>\n",
       "      <th>PVBand_Calibre</th>\n",
       "      <th>PVBand_GAN/Calibre</th>\n",
       "    </tr>\n",
       "  </thead>\n",
       "  <tbody>\n",
       "    <tr>\n",
       "      <th>count</th>\n",
       "      <td>21.000000</td>\n",
       "      <td>21.000000</td>\n",
       "      <td>21.000000</td>\n",
       "      <td>21.000000</td>\n",
       "    </tr>\n",
       "    <tr>\n",
       "      <th>mean</th>\n",
       "      <td>0.064734</td>\n",
       "      <td>0.012069</td>\n",
       "      <td>0.012122</td>\n",
       "      <td>0.995029</td>\n",
       "    </tr>\n",
       "    <tr>\n",
       "      <th>std</th>\n",
       "      <td>0.010234</td>\n",
       "      <td>0.004157</td>\n",
       "      <td>0.004162</td>\n",
       "      <td>0.028463</td>\n",
       "    </tr>\n",
       "    <tr>\n",
       "      <th>min</th>\n",
       "      <td>0.045126</td>\n",
       "      <td>0.005196</td>\n",
       "      <td>0.005498</td>\n",
       "      <td>0.945071</td>\n",
       "    </tr>\n",
       "    <tr>\n",
       "      <th>25%</th>\n",
       "      <td>0.061994</td>\n",
       "      <td>0.007411</td>\n",
       "      <td>0.007761</td>\n",
       "      <td>0.974281</td>\n",
       "    </tr>\n",
       "    <tr>\n",
       "      <th>50%</th>\n",
       "      <td>0.065226</td>\n",
       "      <td>0.013456</td>\n",
       "      <td>0.013625</td>\n",
       "      <td>0.995808</td>\n",
       "    </tr>\n",
       "    <tr>\n",
       "      <th>75%</th>\n",
       "      <td>0.069139</td>\n",
       "      <td>0.015283</td>\n",
       "      <td>0.015366</td>\n",
       "      <td>1.008986</td>\n",
       "    </tr>\n",
       "    <tr>\n",
       "      <th>max</th>\n",
       "      <td>0.083227</td>\n",
       "      <td>0.018326</td>\n",
       "      <td>0.018634</td>\n",
       "      <td>1.044312</td>\n",
       "    </tr>\n",
       "  </tbody>\n",
       "</table>\n",
       "</div>\n",
       "    <div class=\"colab-df-buttons\">\n",
       "\n",
       "  <div class=\"colab-df-container\">\n",
       "    <button class=\"colab-df-convert\" onclick=\"convertToInteractive('df-0dd6ad34-4247-43ea-a14e-5950d89edb8e')\"\n",
       "            title=\"Convert this dataframe to an interactive table.\"\n",
       "            style=\"display:none;\">\n",
       "\n",
       "  <svg xmlns=\"http://www.w3.org/2000/svg\" height=\"24px\" viewBox=\"0 -960 960 960\">\n",
       "    <path d=\"M120-120v-720h720v720H120Zm60-500h600v-160H180v160Zm220 220h160v-160H400v160Zm0 220h160v-160H400v160ZM180-400h160v-160H180v160Zm440 0h160v-160H620v160ZM180-180h160v-160H180v160Zm440 0h160v-160H620v160Z\"/>\n",
       "  </svg>\n",
       "    </button>\n",
       "\n",
       "  <style>\n",
       "    .colab-df-container {\n",
       "      display:flex;\n",
       "      gap: 12px;\n",
       "    }\n",
       "\n",
       "    .colab-df-convert {\n",
       "      background-color: #E8F0FE;\n",
       "      border: none;\n",
       "      border-radius: 50%;\n",
       "      cursor: pointer;\n",
       "      display: none;\n",
       "      fill: #1967D2;\n",
       "      height: 32px;\n",
       "      padding: 0 0 0 0;\n",
       "      width: 32px;\n",
       "    }\n",
       "\n",
       "    .colab-df-convert:hover {\n",
       "      background-color: #E2EBFA;\n",
       "      box-shadow: 0px 1px 2px rgba(60, 64, 67, 0.3), 0px 1px 3px 1px rgba(60, 64, 67, 0.15);\n",
       "      fill: #174EA6;\n",
       "    }\n",
       "\n",
       "    .colab-df-buttons div {\n",
       "      margin-bottom: 4px;\n",
       "    }\n",
       "\n",
       "    [theme=dark] .colab-df-convert {\n",
       "      background-color: #3B4455;\n",
       "      fill: #D2E3FC;\n",
       "    }\n",
       "\n",
       "    [theme=dark] .colab-df-convert:hover {\n",
       "      background-color: #434B5C;\n",
       "      box-shadow: 0px 1px 3px 1px rgba(0, 0, 0, 0.15);\n",
       "      filter: drop-shadow(0px 1px 2px rgba(0, 0, 0, 0.3));\n",
       "      fill: #FFFFFF;\n",
       "    }\n",
       "  </style>\n",
       "\n",
       "    <script>\n",
       "      const buttonEl =\n",
       "        document.querySelector('#df-0dd6ad34-4247-43ea-a14e-5950d89edb8e button.colab-df-convert');\n",
       "      buttonEl.style.display =\n",
       "        google.colab.kernel.accessAllowed ? 'block' : 'none';\n",
       "\n",
       "      async function convertToInteractive(key) {\n",
       "        const element = document.querySelector('#df-0dd6ad34-4247-43ea-a14e-5950d89edb8e');\n",
       "        const dataTable =\n",
       "          await google.colab.kernel.invokeFunction('convertToInteractive',\n",
       "                                                    [key], {});\n",
       "        if (!dataTable) return;\n",
       "\n",
       "        const docLinkHtml = 'Like what you see? Visit the ' +\n",
       "          '<a target=\"_blank\" href=https://colab.research.google.com/notebooks/data_table.ipynb>data table notebook</a>'\n",
       "          + ' to learn more about interactive tables.';\n",
       "        element.innerHTML = '';\n",
       "        dataTable['output_type'] = 'display_data';\n",
       "        await google.colab.output.renderOutput(dataTable, element);\n",
       "        const docLink = document.createElement('div');\n",
       "        docLink.innerHTML = docLinkHtml;\n",
       "        element.appendChild(docLink);\n",
       "      }\n",
       "    </script>\n",
       "  </div>\n",
       "\n",
       "\n",
       "<div id=\"df-02f7ca12-2ed2-4549-ab48-c511d40b6012\">\n",
       "  <button class=\"colab-df-quickchart\" onclick=\"quickchart('df-02f7ca12-2ed2-4549-ab48-c511d40b6012')\"\n",
       "            title=\"Suggest charts\"\n",
       "            style=\"display:none;\">\n",
       "\n",
       "<svg xmlns=\"http://www.w3.org/2000/svg\" height=\"24px\"viewBox=\"0 0 24 24\"\n",
       "     width=\"24px\">\n",
       "    <g>\n",
       "        <path d=\"M19 3H5c-1.1 0-2 .9-2 2v14c0 1.1.9 2 2 2h14c1.1 0 2-.9 2-2V5c0-1.1-.9-2-2-2zM9 17H7v-7h2v7zm4 0h-2V7h2v10zm4 0h-2v-4h2v4z\"/>\n",
       "    </g>\n",
       "</svg>\n",
       "  </button>\n",
       "\n",
       "<style>\n",
       "  .colab-df-quickchart {\n",
       "      --bg-color: #E8F0FE;\n",
       "      --fill-color: #1967D2;\n",
       "      --hover-bg-color: #E2EBFA;\n",
       "      --hover-fill-color: #174EA6;\n",
       "      --disabled-fill-color: #AAA;\n",
       "      --disabled-bg-color: #DDD;\n",
       "  }\n",
       "\n",
       "  [theme=dark] .colab-df-quickchart {\n",
       "      --bg-color: #3B4455;\n",
       "      --fill-color: #D2E3FC;\n",
       "      --hover-bg-color: #434B5C;\n",
       "      --hover-fill-color: #FFFFFF;\n",
       "      --disabled-bg-color: #3B4455;\n",
       "      --disabled-fill-color: #666;\n",
       "  }\n",
       "\n",
       "  .colab-df-quickchart {\n",
       "    background-color: var(--bg-color);\n",
       "    border: none;\n",
       "    border-radius: 50%;\n",
       "    cursor: pointer;\n",
       "    display: none;\n",
       "    fill: var(--fill-color);\n",
       "    height: 32px;\n",
       "    padding: 0;\n",
       "    width: 32px;\n",
       "  }\n",
       "\n",
       "  .colab-df-quickchart:hover {\n",
       "    background-color: var(--hover-bg-color);\n",
       "    box-shadow: 0 1px 2px rgba(60, 64, 67, 0.3), 0 1px 3px 1px rgba(60, 64, 67, 0.15);\n",
       "    fill: var(--button-hover-fill-color);\n",
       "  }\n",
       "\n",
       "  .colab-df-quickchart-complete:disabled,\n",
       "  .colab-df-quickchart-complete:disabled:hover {\n",
       "    background-color: var(--disabled-bg-color);\n",
       "    fill: var(--disabled-fill-color);\n",
       "    box-shadow: none;\n",
       "  }\n",
       "\n",
       "  .colab-df-spinner {\n",
       "    border: 2px solid var(--fill-color);\n",
       "    border-color: transparent;\n",
       "    border-bottom-color: var(--fill-color);\n",
       "    animation:\n",
       "      spin 1s steps(1) infinite;\n",
       "  }\n",
       "\n",
       "  @keyframes spin {\n",
       "    0% {\n",
       "      border-color: transparent;\n",
       "      border-bottom-color: var(--fill-color);\n",
       "      border-left-color: var(--fill-color);\n",
       "    }\n",
       "    20% {\n",
       "      border-color: transparent;\n",
       "      border-left-color: var(--fill-color);\n",
       "      border-top-color: var(--fill-color);\n",
       "    }\n",
       "    30% {\n",
       "      border-color: transparent;\n",
       "      border-left-color: var(--fill-color);\n",
       "      border-top-color: var(--fill-color);\n",
       "      border-right-color: var(--fill-color);\n",
       "    }\n",
       "    40% {\n",
       "      border-color: transparent;\n",
       "      border-right-color: var(--fill-color);\n",
       "      border-top-color: var(--fill-color);\n",
       "    }\n",
       "    60% {\n",
       "      border-color: transparent;\n",
       "      border-right-color: var(--fill-color);\n",
       "    }\n",
       "    80% {\n",
       "      border-color: transparent;\n",
       "      border-right-color: var(--fill-color);\n",
       "      border-bottom-color: var(--fill-color);\n",
       "    }\n",
       "    90% {\n",
       "      border-color: transparent;\n",
       "      border-bottom-color: var(--fill-color);\n",
       "    }\n",
       "  }\n",
       "</style>\n",
       "\n",
       "  <script>\n",
       "    async function quickchart(key) {\n",
       "      const quickchartButtonEl =\n",
       "        document.querySelector('#' + key + ' button');\n",
       "      quickchartButtonEl.disabled = true;  // To prevent multiple clicks.\n",
       "      quickchartButtonEl.classList.add('colab-df-spinner');\n",
       "      try {\n",
       "        const charts = await google.colab.kernel.invokeFunction(\n",
       "            'suggestCharts', [key], {});\n",
       "      } catch (error) {\n",
       "        console.error('Error during call to suggestCharts:', error);\n",
       "      }\n",
       "      quickchartButtonEl.classList.remove('colab-df-spinner');\n",
       "      quickchartButtonEl.classList.add('colab-df-quickchart-complete');\n",
       "    }\n",
       "    (() => {\n",
       "      let quickchartButtonEl =\n",
       "        document.querySelector('#df-02f7ca12-2ed2-4549-ab48-c511d40b6012 button');\n",
       "      quickchartButtonEl.style.display =\n",
       "        google.colab.kernel.accessAllowed ? 'block' : 'none';\n",
       "    })();\n",
       "  </script>\n",
       "</div>\n",
       "    </div>\n",
       "  </div>\n"
      ],
      "text/plain": [
       "        XOR_frac  PVBand_GAN  PVBand_Calibre  PVBand_GAN/Calibre\n",
       "count  21.000000   21.000000       21.000000           21.000000\n",
       "mean    0.064734    0.012069        0.012122            0.995029\n",
       "std     0.010234    0.004157        0.004162            0.028463\n",
       "min     0.045126    0.005196        0.005498            0.945071\n",
       "25%     0.061994    0.007411        0.007761            0.974281\n",
       "50%     0.065226    0.013456        0.013625            0.995808\n",
       "75%     0.069139    0.015283        0.015366            1.008986\n",
       "max     0.083227    0.018326        0.018634            1.044312"
      ]
     },
     "execution_count": 8,
     "metadata": {},
     "output_type": "execute_result"
    }
   ],
   "source": [
    "metrics.describe()"
   ]
  },
  {
   "cell_type": "code",
   "execution_count": null,
   "metadata": {
    "id": "Yh8nEMI1pphC"
   },
   "outputs": [],
   "source": [
    "stat_values = metrics.describe()\n",
    "stat_values.to_excel('MBOPC_statistics.xlsx')\n",
    "metrics.to_excel('MBOPC_metrics.xlsx')\n"
   ]
  },
  {
   "cell_type": "code",
   "execution_count": null,
   "metadata": {
    "colab": {
     "base_uri": "https://localhost:8080/"
    },
    "id": "VAYUi_UUF0oj",
    "outputId": "9fbcde71-0b97-43e2-844b-f81243fc9053"
   },
   "outputs": [
    {
     "data": {
      "text/plain": [
       "[0.5]"
      ]
     },
     "execution_count": 1,
     "metadata": {},
     "output_type": "execute_result"
    }
   ],
   "source": [
    "#0.008295  мкм\n",
    "a = [5/10]\n",
    "a"
   ]
  },
  {
   "cell_type": "code",
   "execution_count": null,
   "metadata": {
    "colab": {
     "base_uri": "https://localhost:8080/"
    },
    "id": "9s1RghuBIHND",
    "outputId": "48bbb267-d9fe-490f-e05f-86d1ccf98ee8"
   },
   "outputs": [
    {
     "data": {
      "text/plain": [
       "0.06254488400412153"
      ]
     },
     "execution_count": 2,
     "metadata": {},
     "output_type": "execute_result"
    }
   ],
   "source": [
    "0.0080125/0.128108"
   ]
  },
  {
   "cell_type": "code",
   "execution_count": null,
   "metadata": {
    "id": "NLCHpE-uJx_t"
   },
   "outputs": [],
   "source": []
  }
 ],
 "metadata": {
  "accelerator": "GPU",
  "colab": {
   "gpuType": "T4",
   "provenance": []
  },
  "kernelspec": {
   "display_name": "Python 3 (ipykernel)",
   "language": "python",
   "name": "python3"
  },
  "language_info": {
   "codemirror_mode": {
    "name": "ipython",
    "version": 3
   },
   "file_extension": ".py",
   "mimetype": "text/x-python",
   "name": "python",
   "nbconvert_exporter": "python",
   "pygments_lexer": "ipython3",
   "version": "3.11.7"
  }
 },
 "nbformat": 4,
 "nbformat_minor": 4
}
